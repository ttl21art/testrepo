{
 "cells": [
  {
   "cell_type": "markdown",
   "id": "4953d491-2c70-433d-8105-95114f7823ab",
   "metadata": {},
   "source": [
    "# Data Science Tools and Ecosystem"
   ]
  },
  {
   "cell_type": "markdown",
   "id": "e7f7e38b-362e-4ef6-9182-eb4100201fd0",
   "metadata": {},
   "source": [
    "In this notebook, Data Science Tools and Ecosystem are summarized."
   ]
  },
  {
   "cell_type": "markdown",
   "id": "dbba99c9-4d13-4fb2-b43c-f18ba2288df7",
   "metadata": {},
   "source": [
    "Some of the popular languages that Data Scientists use are:"
   ]
  },
  {
   "cell_type": "markdown",
   "id": "08902264-7506-49ef-a9a4-01490ce5143d",
   "metadata": {},
   "source": [
    "### 1. python\n",
    "### 2. R\n",
    "### 3. Julia"
   ]
  },
  {
   "cell_type": "markdown",
   "id": "a76be524-6577-4e44-892d-aed4442c9d69",
   "metadata": {},
   "source": [
    "- SQL\n",
    "- Scala\n",
    "- Java"
   ]
  },
  {
   "cell_type": "markdown",
   "id": "fdba93bd-ecf9-4be2-bbdf-7802f369b4be",
   "metadata": {},
   "source": [
    "Some of the commonly used libraries used by Data Scientists include:"
   ]
  },
  {
   "cell_type": "markdown",
   "id": "1b4eea5a-5932-4e28-9aea-a2acab2594c9",
   "metadata": {},
   "source": [
    "### 1. TensorFlow\n",
    "### 2. PyTorch\n",
    "### 3. Keras\n",
    "### 4. ggplot2\n",
    "### 5. caret"
   ]
  },
  {
   "cell_type": "markdown",
   "id": "8ae8c5e0-17c5-4099-9485-2ab7dc79b021",
   "metadata": {},
   "source": [
    "|*Data Science Tools*|\n",
    "|--------------------|\n",
    "|Jupyter Notebook|\n",
    "|VS Code|\n",
    "|RStudio|"
   ]
  },
  {
   "cell_type": "markdown",
   "id": "2d189731-ad80-4e56-841c-01df9dbd018f",
   "metadata": {},
   "source": [
    "### Below are a few examples of evaluating arithmetic expressions in Python"
   ]
  },
  {
   "cell_type": "markdown",
   "id": "a46551ec-ed64-4b6c-a5a9-a9b416c0b569",
   "metadata": {},
   "source": [
    "##### Addition\n",
    "print(5 + 3)  # Output: 8\n",
    "\n",
    "##### Subtraction\n",
    "print(10 - 4)  # Output: 6\n",
    "\n",
    "##### Multiplication\n",
    "print(6 * 7)  # Output: 42\n",
    "\n",
    "##### Division (Floating point)\n",
    "print(15 / 2)  # Output: 7.5\n",
    "\n",
    "##### Exponentiation (Power)\n",
    "print(2 ** 3)  # Output: 8\n"
   ]
  },
  {
   "cell_type": "markdown",
   "id": "8e72c792-f1a1-4324-8347-9cefba450636",
   "metadata": {},
   "source": [
    "### This a simple arithmetic expression to mutiply then add integers"
   ]
  },
  {
   "cell_type": "code",
   "execution_count": 25,
   "id": "99dba2fc-b62b-41ab-be06-66da00d60afb",
   "metadata": {},
   "outputs": [
    {
     "data": {
      "text/plain": [
       "17"
      ]
     },
     "execution_count": 25,
     "metadata": {},
     "output_type": "execute_result"
    }
   ],
   "source": [
    "(3*4)+5"
   ]
  },
  {
   "cell_type": "markdown",
   "id": "51460f0a-4b8b-4bc2-9329-e8ecf02d28d2",
   "metadata": {},
   "source": [
    "### This will convert 200 minutes to hours by diving by 60"
   ]
  },
  {
   "cell_type": "code",
   "execution_count": 37,
   "id": "422d3513-e955-41db-b6ac-c55dea81d7d0",
   "metadata": {},
   "outputs": [
    {
     "data": {
      "text/plain": [
       "3.3333333333333335"
      ]
     },
     "execution_count": 37,
     "metadata": {},
     "output_type": "execute_result"
    }
   ],
   "source": [
    "200/60"
   ]
  },
  {
   "cell_type": "markdown",
   "id": "44258254-f859-4c33-808b-a375a8f4ac24",
   "metadata": {},
   "source": [
    "## Author"
   ]
  },
  {
   "cell_type": "markdown",
   "id": "88bbe49a-ebec-45e1-81dc-c0df877049d4",
   "metadata": {},
   "source": [
    "#### JOAN YUN"
   ]
  }
 ],
 "metadata": {
  "kernelspec": {
   "display_name": "Python [conda env:base] *",
   "language": "python",
   "name": "conda-base-py"
  },
  "language_info": {
   "codemirror_mode": {
    "name": "ipython",
    "version": 3
   },
   "file_extension": ".py",
   "mimetype": "text/x-python",
   "name": "python",
   "nbconvert_exporter": "python",
   "pygments_lexer": "ipython3",
   "version": "3.12.7"
  }
 },
 "nbformat": 4,
 "nbformat_minor": 5
}
